{
 "cells": [
  {
   "cell_type": "code",
   "execution_count": 1,
   "id": "1259da1c",
   "metadata": {},
   "outputs": [],
   "source": [
    "import api_key\n",
    "\n",
    "API_KEY = api_key.API_KEY\n",
    "\n",
    "import googlemaps\n",
    "\n",
    "\n",
    "gmaps = googlemaps.Client(key=API_KEY)\n",
    "\n",
    "result = gmaps.find_place(input = '國立政治大學', input_type = 'textquery', fields = ['place_id'], language = 'zh-TW')\n",
    "\n",
    "place_ids = [pair['place_id'] for pair in result['candidates']]\n",
    "\n",
    "\n",
    "\n",
    "\n"
   ]
  },
  {
   "cell_type": "code",
   "execution_count": 28,
   "id": "370a03b8",
   "metadata": {},
   "outputs": [],
   "source": [
    "def place(place_id):\n",
    "    detail = gmaps.place(place_id = place_id, fields = ['adr_address','price_level', 'rating', 'review', 'user_ratings_total'], language=\"zh-TW\")\n",
    "    return (place_id, detail)"
   ]
  },
  {
   "cell_type": "code",
   "execution_count": 30,
   "id": "ac9bc42d",
   "metadata": {},
   "outputs": [],
   "source": [
    "results = dict(map(place, place_ids))"
   ]
  },
  {
   "cell_type": "code",
   "execution_count": 32,
   "id": "1adaa22a",
   "metadata": {},
   "outputs": [
    {
     "data": {
      "text/plain": [
       "{'ChIJSS8sRXmqQjQRB_U7jlAHjZ4': {'html_attributions': [],\n",
       "  'result': {'adr_address': '<span class=\"postal-code\">116</span><span class=\"country-name\">台灣</span><span class=\"region\">台北市</span><span class=\"locality\">文山區</span><span class=\"street-address\">萬興里指南路二段64號</span>',\n",
       "   'rating': 4.4,\n",
       "   'reviews': [{'author_name': 'WONDER LIN',\n",
       "     'author_url': 'https://www.google.com/maps/contrib/113248147825270342478/reviews',\n",
       "     'language': 'zh-Hant',\n",
       "     'profile_photo_url': 'https://lh3.googleusercontent.com/a/AItbvmmRzi4QHwW9m1K9hGtOfD9nNY0K12Z4nWPfEH87=s128-c0x00000000-cc-rp-mo-ba5',\n",
       "     'rating': 5,\n",
       "     'relative_time_description': '4 週前',\n",
       "     'text': '日落』：「暮送夕陽步長堤」，政大長堤是欣賞日落水岸景色的好所在，從萬壽橋或道南橋旁，沿著景美溪眺望恆光橋，經過醉夢溪畔、渡賢橋、濟賢橋、圖書館、井塘樓、社資中心，往登山道步行至指南宮，大屯山脈和觀音山景色盡收眼底，可以去走走\\n\\n旁邊的水案公園很不錯',\n",
       "     'time': 1654584718},\n",
       "    {'author_name': '林文江',\n",
       "     'author_url': 'https://www.google.com/maps/contrib/108010482418715115608/reviews',\n",
       "     'language': 'zh-Hant',\n",
       "     'profile_photo_url': 'https://lh3.googleusercontent.com/a/AItbvmm2zRyGOQdj3_p_qn6IkmigiHygI_7V6IA-xGXJ=s128-c0x00000000-cc-rp-mo-ba6',\n",
       "     'rating': 4,\n",
       "     'relative_time_description': '1 年前',\n",
       "     'text': '風景優美！心曠神怡！',\n",
       "     'time': 1600495558},\n",
       "    {'author_name': 'MKM',\n",
       "     'author_url': 'https://www.google.com/maps/contrib/117018213112096462843/reviews',\n",
       "     'language': 'zh-Hant',\n",
       "     'profile_photo_url': 'https://lh3.googleusercontent.com/a/AItbvmmKFEFXZ-qa91nQ0m5xOWy3wZ0vR3VIcvQvnprTJA=s128-c0x00000000-cc-rp-mo-ba4',\n",
       "     'rating': 1,\n",
       "     'relative_time_description': '6 個月前',\n",
       "     'text': '政治大學台中校友會的某兩位女性素質簡直破到不行，辦事不力態度惡劣難怪召集不到校友集合，可憐吶！用噁心高傲嘴臉對待現場工作人員，本人痛恨這種對人毫無尊重的高知識份子，真是丟政治大學的臉！',\n",
       "     'time': 1640026582},\n",
       "    {'author_name': 'YT T.',\n",
       "     'author_url': 'https://www.google.com/maps/contrib/103320113546660919311/reviews',\n",
       "     'language': 'zh-Hant',\n",
       "     'profile_photo_url': 'https://lh3.googleusercontent.com/a-/AFdZucqTpGauv5qgMhe6lWcvUw74DArQQ2YxfnaALc-n=s128-c0x00000000-cc-rp-mo',\n",
       "     'rating': 2,\n",
       "     'relative_time_description': '3 週前',\n",
       "     'text': '曾在這裡受到某位教授的煤氣燈效應（gaslighting)的針對欺負，影響了我好幾年，好處是可以提前體會社會險惡。\\n學校風景秀麗位在台北市郊，是優點也是缺點，交通上稍不便。\\n另外學校高層看事情的格局可以再大一些。',\n",
       "     'time': 1655129566},\n",
       "    {'author_name': 'Maya Bei',\n",
       "     'author_url': 'https://www.google.com/maps/contrib/110371779333817208593/reviews',\n",
       "     'language': 'zh-Hant',\n",
       "     'profile_photo_url': 'https://lh3.googleusercontent.com/a-/AFdZucqpP9XnhYOxP2GSJIYrx7Kx-BWSFP1GflIoRyL5niA=s128-c0x00000000-cc-rp-mo-ba4',\n",
       "     'rating': 4,\n",
       "     'relative_time_description': '4 週前',\n",
       "     'text': '政大環山步道是健身的好地方，視野開闊，非疫情期間，還可以由飛龍步道上樟山寺，再繼續走樟湖步道賞花，十分親民的步道.',\n",
       "     'time': 1654579159}],\n",
       "   'user_ratings_total': 1559},\n",
       "  'status': 'OK'},\n",
       " 'ChIJtdII_HuqQjQRgJ08233a8ys': {'html_attributions': [],\n",
       "  'result': {'adr_address': '<span class=\"postal-code\">116</span><span class=\"country-name\">台灣</span><span class=\"region\">台北市</span><span class=\"locality\">文山區</span><span class=\"street-address\">萬興里指南路二段64號</span>',\n",
       "   'rating': 4.5,\n",
       "   'reviews': [{'author_name': '林旻諭',\n",
       "     'author_url': 'https://www.google.com/maps/contrib/116590821378422644768/reviews',\n",
       "     'language': 'zh-Hant',\n",
       "     'profile_photo_url': 'https://lh3.googleusercontent.com/a/AItbvmm7eh_wuDhTb5JhessMJFgegfkua7fOBlJ-u4uw2_Q=s128-c0x00000000-cc-rp-mo-ba4',\n",
       "     'rating': 5,\n",
       "     'relative_time_description': '2 個月前',\n",
       "     'text': '男友的學校，所以我給一百分💯\\n如果分手再上來編輯',\n",
       "     'time': 1649400049},\n",
       "    {'author_name': 'Frankie Xu',\n",
       "     'author_url': 'https://www.google.com/maps/contrib/116404494921456388624/reviews',\n",
       "     'language': 'zh-Hant',\n",
       "     'profile_photo_url': 'https://lh3.googleusercontent.com/a-/AFdZucqnz8FAlzU8SY-d4Tx9pPO-zkp6KpNfHfBp6sYUTgM=s128-c0x00000000-cc-rp-mo-ba3',\n",
       "     'rating': 5,\n",
       "     'relative_time_description': '2 年前',\n",
       "     'text': '超棒的地方，很舒服，不知不覺就待了四年了',\n",
       "     'time': 1591859236},\n",
       "    {'author_name': '盧卡斯',\n",
       "     'author_url': 'https://www.google.com/maps/contrib/105238608141080117151/reviews',\n",
       "     'language': 'zh-Hant',\n",
       "     'profile_photo_url': 'https://lh3.googleusercontent.com/a-/AFdZucqQCnCiBBHsi2cBC1dyTGbCCHzy4lrGuQlmO7rhwg=s128-c0x00000000-cc-rp-mo-ba5',\n",
       "     'rating': 3,\n",
       "     'relative_time_description': '6 個月前',\n",
       "     'text': '廁所應該要每間隔間都有自己的衛生紙\\n許多教室的座位桌子很小很難考試\\n希望可改進',\n",
       "     'time': 1641268120},\n",
       "    {'author_name': '小草帽王',\n",
       "     'author_url': 'https://www.google.com/maps/contrib/101987356861377223448/reviews',\n",
       "     'language': 'zh-Hant',\n",
       "     'profile_photo_url': 'https://lh3.googleusercontent.com/a-/AFdZucqsksQJkplRDoHB8HXwDUy2NwIJEEkk8FrIc4yBZPM=s128-c0x00000000-cc-rp-mo-ba4',\n",
       "     'rating': 4,\n",
       "     'relative_time_description': '3 個月前',\n",
       "     'text': '業界知名再進修的學習好地方！',\n",
       "     'time': 1648644086},\n",
       "    {'author_name': 'Jasper Donald',\n",
       "     'author_url': 'https://www.google.com/maps/contrib/117191476877157708516/reviews',\n",
       "     'language': 'zh-Hant',\n",
       "     'profile_photo_url': 'https://lh3.googleusercontent.com/a-/AFdZucozANdi7MKj_Comb2MFkqfaP0xg-jlYfHNTcfgxpw=s128-c0x00000000-cc-rp-mo',\n",
       "     'rating': 5,\n",
       "     'relative_time_description': '1 年前',\n",
       "     'text': '首推資管系辦',\n",
       "     'time': 1616480336}],\n",
       "   'user_ratings_total': 143},\n",
       "  'status': 'OK'}}"
      ]
     },
     "execution_count": 32,
     "metadata": {},
     "output_type": "execute_result"
    }
   ],
   "source": [
    "results"
   ]
  },
  {
   "cell_type": "code",
   "execution_count": null,
   "id": "007578af",
   "metadata": {},
   "outputs": [],
   "source": []
  }
 ],
 "metadata": {
  "kernelspec": {
   "display_name": "Python 3 (ipykernel)",
   "language": "python",
   "name": "python3"
  },
  "language_info": {
   "codemirror_mode": {
    "name": "ipython",
    "version": 3
   },
   "file_extension": ".py",
   "mimetype": "text/x-python",
   "name": "python",
   "nbconvert_exporter": "python",
   "pygments_lexer": "ipython3",
   "version": "3.8.12"
  }
 },
 "nbformat": 4,
 "nbformat_minor": 5
}
